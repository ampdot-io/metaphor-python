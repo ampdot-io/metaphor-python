{
  "nbformat": 4,
  "nbformat_minor": 0,
  "metadata": {
    "colab": {
      "provenance": []
    },
    "kernelspec": {
      "name": "python3",
      "display_name": "Python 3"
    },
    "language_info": {
      "name": "python"
    }
  },
  "cells": [
    {
      "cell_type": "markdown",
      "source": [
        "# Search with LLMs: Recent News Summarizer\n",
        "---\n",
        "In this example, we will build a LLM-based news summarizer app with the Metaphor API to keep us up-to-date with the latest news on a given topic.\n",
        "\n",
        "This Jupyter notebook is available on [Colab](https://colab.research.google.com/drive/1WjttEBJBLuJc9Kavd9TGbdtup4rIOaRc?usp=sharing) for easy experimentation. You can also [check it out on Github](https://github.com/metaphorsystems/metaphor-python/tree/master/examples/newssummarizer/summarizer.ipynb), including a [plain Python version](https://github.com/metaphorsystems/metaphor-python/tree/master/examples/newssummarizer/summarizer.py) if you want to skip to a complete product.\n",
        "\n",
        "To play with this code, first we need a [Metaphor API key](https://dashboard.metaphor.systems/overview) and an [OpenAI API key](https://platform.openai.com/api-keys). Get 1000 Metaphor searches per month free just for [signing up](https://dashboard.metaphor.systems/overview)!\n"
      ],
      "metadata": {
        "id": "SVSe94wq0KD0"
      }
    },
    {
      "cell_type": "code",
      "source": [
        "# install Metaphor and OpenAI SDKs\n",
        "!pip install metaphor_python\n",
        "!pip install openai"
      ],
      "metadata": {
        "id": "5ijr4syZGF6O"
      },
      "execution_count": null,
      "outputs": []
    },
    {
      "cell_type": "code",
      "source": [
        "from google.colab import userdata # comment this out if you're not using Colab\n",
        "\n",
        "METAPHOR_API_KEY = userdata.get('METAPHOR_API_KEY') # replace with your api key, or add to Colab Secrets\n",
        "OPENAI_API_KEY = userdata.get('OPENAI_API_KEY') # replace with your api key, or add to Colab Secrets"
      ],
      "metadata": {
        "id": "b6GDATDX4kaH"
      },
      "execution_count": null,
      "outputs": []
    },
    {
      "cell_type": "markdown",
      "source": [
        "### First Approach (without Metaphor)\n",
        "First, let's try building the app just by using the OpenAI API. We will use GPT 3.5-turbo as our LLM. Let's ask it for the recent news, like we might ask ChatGPT."
      ],
      "metadata": {
        "id": "x9UMHs_Y4hDb"
      }
    },
    {
      "cell_type": "code",
      "execution_count": null,
      "metadata": {
        "id": "Sas2IFWXzsMc",
        "colab": {
          "base_uri": "https://localhost:8080/"
        },
        "outputId": "4cd643df-94a6-48af-a90e-650c7925b459"
      },
      "outputs": [
        {
          "output_type": "stream",
          "name": "stdout",
          "text": [
            "One recent news in physics is the discovery of a new type of superconductor that operates at higher temperatures. Researchers at the University of Rochester and collaborator institutions have found a class of materials called \"copper oxides\" that can conduct electricity without any resistance at temperatures of -23 degrees Celsius (-9 degrees Fahrenheit). This finding could have significant implications for the development of more efficient energy transmission and storage systems.\n"
          ]
        }
      ],
      "source": [
        "import openai\n",
        "\n",
        "openai.api_key = OPENAI_API_KEY\n",
        "\n",
        "USER_QUESTION = \"What's the recent news in physics this week?\"\n",
        "\n",
        "completion = openai.chat.completions.create(\n",
        "    model=\"gpt-3.5-turbo\",\n",
        "    messages=[\n",
        "        {\"role\": \"system\", \"content\": \"You are a helpful assistant.\"},\n",
        "        {\"role\": \"user\", \"content\": USER_QUESTION},\n",
        "    ],\n",
        ")\n",
        "\n",
        "response = completion.choices[0].message.content\n",
        "print(response)"
      ]
    },
    {
      "cell_type": "markdown",
      "source": [
        "Oh no! Since the LLM is unable to use recent data, it doesn't know the latest news. It might tell us some information, but that info isn't recent, and we can't be sure it's trustworthy either since it has no source. Luckily, Metaphor's API allows us to solve these problems by connecting our LLM app to the internet. Here's how:\n",
        "\n",
        "### Second Approach (with Metaphor)\n",
        "\n",
        "Let's use the Metaphor neural search engine to search the web for relevant links to the user's question.\n",
        "\n",
        "First, we ask the LLM to generate a search engine query based on the question."
      ],
      "metadata": {
        "id": "Qg8dF3p208CY"
      }
    },
    {
      "cell_type": "code",
      "source": [
        "import openai\n",
        "from metaphor_python import Metaphor\n",
        "\n",
        "openai.api_key = OPENAI_API_KEY\n",
        "metaphor = Metaphor(METAPHOR_API_KEY)\n",
        "\n",
        "SYSTEM_MESSAGE = \"You are a helpful assistant that generates search queries based on user questions. Only generate one search query.\"\n",
        "USER_QUESTION = \"What's the recent news in physics this week?\"\n",
        "\n",
        "completion = openai.chat.completions.create(\n",
        "    model=\"gpt-3.5-turbo\",\n",
        "    messages=[\n",
        "        {\"role\": \"system\", \"content\": SYSTEM_MESSAGE},\n",
        "        {\"role\": \"user\", \"content\": USER_QUESTION},\n",
        "    ],\n",
        ")\n",
        "\n",
        "search_query = completion.choices[0].message.content\n",
        "\n",
        "print(\"Search query:\")\n",
        "print(search_query)"
      ],
      "metadata": {
        "id": "jbycUz5K1Ijk",
        "colab": {
          "base_uri": "https://localhost:8080/"
        },
        "outputId": "4893febf-6e47-46ed-da70-ef1bb6ebda45"
      },
      "execution_count": null,
      "outputs": [
        {
          "output_type": "stream",
          "name": "stdout",
          "text": [
            "Search query:\n",
            "\"Recent breakthroughs in physics\"\n"
          ]
        }
      ]
    },
    {
      "cell_type": "markdown",
      "source": [
        "Looks good! Now let's put the search query into Metaphor. Let's also use `start_published_date` to filter the results to pages published in the last week:"
      ],
      "metadata": {
        "id": "SC_5-snd-GEn"
      }
    },
    {
      "cell_type": "code",
      "source": [
        "from datetime import datetime, timedelta\n",
        "\n",
        "one_week_ago = (datetime.now() - timedelta(days=7))\n",
        "date_cutoff = one_week_ago.strftime(\"%Y-%m-%d\")\n",
        "\n",
        "search_response = metaphor.search(\n",
        "    search_query, use_autoprompt=True, start_published_date=date_cutoff\n",
        ")\n",
        "\n",
        "urls = [result.url for result in search_response.results]\n",
        "print(\"URLs:\")\n",
        "for url in urls:\n",
        "    print(url)"
      ],
      "metadata": {
        "id": "Hze1E9Km9_wy",
        "colab": {
          "base_uri": "https://localhost:8080/"
        },
        "outputId": "7cd9a48a-1137-4879-c9e5-ec0d59400fc2"
      },
      "execution_count": null,
      "outputs": [
        {
          "output_type": "stream",
          "name": "stdout",
          "text": [
            "URLs:\n",
            "https://phys.org/news/2023-11-carbon-material-energy-storage-advance-supercapacitors.html?utm_source=twitter.com&utm_medium=social&utm_campaign=v2%7C\n",
            "https://www.sciencedaily.com/releases/2023/11/231120124138.htm\n",
            "https://phys.org/news/2023-11-fullerene-like-molecule-metal-atoms.html?utm_source=twitter.com&utm_medium=social&utm_campaign=v2%7C\n",
            "https://arxiv.org/abs/2311.14088\n",
            "https://www.theguardian.com/science/2023/nov/24/amaterasu-extremely-high-energy-particle-detected-falling-to-earth\n",
            "https://phys.org/news/2023-11-physicists-evidence-exotic-quantum-material.html?utm_source=twitter.com&utm_medium=social&utm_campaign=v2%7C\n",
            "https://phys.org/news/2023-11-scientists-succeed-dolomite-lab-dissolving.html?utm_source=twitter.com&utm_medium=social&utm_campaign=v2%7C\n",
            "https://interestingengineering.com/science/strange-metal-quantum-shot-noise?utm_source=Twitter&utm_medium=content&utm_campaign=organic&utm_content=Nov24%7C\n",
            "https://arxiv.org/abs/2311.12903\n",
            "https://www.quantamagazine.org/meet-strange-metals-where-electricity-may-flow-without-electrons-20231127/\n"
          ]
        }
      ]
    },
    {
      "cell_type": "markdown",
      "source": [
        "Now we're getting somewhere! Metaphor gave our app a list of relevant, useful URLs based on the original question.\n",
        "\n",
        "By the way, we might be wondering what makes Metaphor special. Why can't we just search with Google? Well, [let's take a look for ourselves](https://www.google.com/search?q=Recent+news+in+physics+this+week) at the Google search results. It gives us the front page of lots of news aggregators, but not the news articles themselves. We can use Metaphor to skip writing a web crawler, and fetch the fresh content directly!\n",
        "\n",
        "### Adding summarization\n",
        "Okay, so we got a bunch of links. But we don't want to actually put the links into our browser, do we? That sounds like too much work. Our app should get the website contents for us and clean up the HTML.\n",
        "\n",
        "Luckily Metaphor can do all that for us, and give us cleaned website contents for the search we just did in one command!"
      ],
      "metadata": {
        "id": "riH35go81MPe"
      }
    },
    {
      "cell_type": "code",
      "source": [
        "contents_result = search_response.get_contents()\n",
        "\n",
        "content_item = contents_result.contents[0]\n",
        "print(f\"{len(contents_result.contents)} items total, printing the first one:\")\n",
        "print(content_item)"
      ],
      "metadata": {
        "id": "ttZm-kTkBTv9",
        "colab": {
          "base_uri": "https://localhost:8080/"
        },
        "outputId": "bfef6bea-0934-44fa-ac7b-0ec74916d538"
      },
      "execution_count": null,
      "outputs": [
        {
          "output_type": "stream",
          "name": "stdout",
          "text": [
            "10 items total, printing the first one:\n",
            "ID: FVgU_DDBF1D6pqLlGS1qyg\n",
            "URL: https://phys.org/news/2023-11-carbon-material-energy-storage-advance-supercapacitors.html?utm_source=twitter.com&utm_medium=social&utm_campaign=v2%7C\n",
            "Title: New carbon material sets energy-storage record, likely to advance supercapacitors\n",
            "Extract: <div><div>\n",
            "<div>\n",
            "<figure>\n",
            "<figcaption>\n",
            " Conceptual art depicts machine learning finding an ideal material for capacitive energy storage. Its carbon framework (black) has functional groups with oxygen (pink) and nitrogen (turquoise). Credit: Tao Wang/ORNL, U.S. Dept. of Energy\n",
            " </figcaption> </figure>\n",
            "</div>\n",
            "<p>Guided by machine learning, chemists at the Department of Energy's Oak Ridge National Laboratory designed a record-setting carbonaceous supercapacitor material that stores four times more energy than the best commercial material. A supercapacitor made with the new material could store more energy—improving regenerative brakes, power electronics and auxiliary power supplies.\n",
            "\t \n",
            "\t </p>\n",
            "<p>\"By combining a data-driven method and our research experience, we created a <a href=\"https://phys.org/tags/carbon+material/\">carbon material</a> with enhanced physicochemical and electrochemical properties that pushed the boundary of energy storage for carbon supercapacitors to the next level,\" said chemist Tao Wang of ORNL and the University of Tennessee, Knoxville.\n",
            "</p><p>Wang led the study, titled \"Machine-learning-assisted material discovery of oxygen-rich highly <a href=\"https://phys.org/tags/porous+carbon/\">porous carbon</a> active materials for aqueous supercapacitor\" and <a href=\"https://www.nature.com/articles/s41467-023-40282-1\">published</a> in <i>Nature Communications</i>, with chemist Sheng Dai of ORNL and UTK.\n",
            "</p><p>\"This is the highest recorded storage capacitance for porous carbon,\" said Dai, who conceived and designed the experiments with Wang. \"This is a real milestone.\"\n",
            "</p><p>The researchers conducted the study at the Fluid Interface Reactions, Structures and Transport Center, or FIRST, an ORNL-led DOE Energy Frontier Research Center that operated from 2009 to 2022. Its partners at three national labs and seven universities explored fluid-solid interface reactions having consequences for capacitive electrical energy storage. Capacitance is the ability to collect and store <a href=\"https://phys.org/tags/electrical+charge/\">electrical charge</a>.\n",
            "</p><p>When it comes to energy storage devices, batteries are the most familiar. They convert chemical energy to electrical energy and excel at storing energy. By contrast, capacitors store energy as an electric field, akin to static electricity. They cannot store as much energy as batteries in a given volume, but they can recharge repeatedly and do not lose the ability to hold a charge. Supercapacitors, such as those powering some electric buses, can store more charge than capacitors and charge and discharge more quickly than batteries.\n",
            "</p><p>Commercial supercapacitors have two electrodes—an anode and cathode—that are separated and immersed in an electrolyte. Double electrical layers reversibly separate charges at the interface between the electrolyte and the carbon. The materials of choice for making electrodes for supercapacitors are porous carbons. The pores provide a large surface area for storing the electrostatic charge.\n",
            "\t \t </p>\n",
            "<p>The ORNL-led study used <a href=\"https://phys.org/tags/machine+learning/\">machine learning</a>, a type of artificial intelligence that learns from data to optimize outcomes, to guide the discovery of the superlative material. Runtong Pan, Musen Zhou and Jianzhong Wu from the University of California, Riverside, a FIRST partner university, built an artificial neural network model and trained it to set a clear goal: develop a \"dream material\" for energy delivery.\n",
            "</p><p>The model predicted that the highest capacitance for a carbon electrode would be 570 farads per gram if the carbon were co-doped with oxygen and nitrogen.\n",
            "</p><p>Wang and Dai designed an extremely porous doped carbon that would provide huge surface areas for interfacial electrochemical reactions. Then Wang synthesized the novel material, an oxygen-rich carbon framework for storing and transporting charge.\n",
            "</p><p>The carbon was activated to generate more pores and add functional chemical groups at sites for oxidation or reduction reactions. Industry uses activation agents such as potassium hydroxide that require a very high temperature, around 800°C, which drives oxygen from the material. Five years ago, Dai developed a process using sodium amide asAuthor: None\n"
          ]
        }
      ]
    },
    {
      "cell_type": "markdown",
      "source": [
        "Awesome! That's really interesting, or it would be if we had bothered to read it all. But there's no way we're doing that, so let's ask the LLM to summarize it for us:"
      ],
      "metadata": {
        "id": "xg_xlYBwBnon"
      }
    },
    {
      "cell_type": "code",
      "source": [
        "import textwrap\n",
        "\n",
        "SYSTEM_MESSAGE = \"You are a helpful assistant that briefly summarizes the content of a webpage. Summarize the users input.\"\n",
        "\n",
        "completion = openai.chat.completions.create(\n",
        "    model=\"gpt-3.5-turbo\",\n",
        "    messages=[\n",
        "        {\"role\": \"system\", \"content\": SYSTEM_MESSAGE},\n",
        "        {\"role\": \"user\", \"content\": content_item.extract},\n",
        "    ],\n",
        ")\n",
        "\n",
        "summary = completion.choices[0].message.content\n",
        "\n",
        "print(f\"Summary for {content_item.url}:\")\n",
        "print(content_item.title)\n",
        "print(textwrap.fill(summary, 80))"
      ],
      "metadata": {
        "id": "bEVgALqS1Qbb",
        "colab": {
          "base_uri": "https://localhost:8080/"
        },
        "outputId": "da9dad6c-5a18-432c-8503-12a25b8d957c"
      },
      "execution_count": null,
      "outputs": [
        {
          "output_type": "stream",
          "name": "stdout",
          "text": [
            "Summary for https://phys.org/news/2023-11-carbon-material-energy-storage-advance-supercapacitors.html?utm_source=twitter.com&utm_medium=social&utm_campaign=v2%7C:\n",
            "New carbon material sets energy-storage record, likely to advance supercapacitors\n",
            "Chemists at the Department of Energy's Oak Ridge National Laboratory have\n",
            "designed a carbonaceous supercapacitor material using machine learning that\n",
            "stores four times more energy than the best commercial material. The new\n",
            "material could improve regenerative brakes, power electronics, and auxiliary\n",
            "power supplies. The researchers used machine learning to guide the discovery of\n",
            "the material, which has enhanced physicochemical and electrochemical properties.\n",
            "The material has the highest recorded storage capacitance for porous carbon.\n"
          ]
        }
      ]
    },
    {
      "cell_type": "markdown",
      "source": [
        "And we're done! We built an app that translates a question into a search query, uses Metaphor to search for useful links, uses Metaphor to grab clean content from those links, and summarizes the content to effortlessly answer your question about the latest news, or whatever we want.\n",
        "\n",
        "We can be sure that the information is fresh, we have the source in front of us, and we did all this with a couple Metaphor queries and LLM calls, no web scraping or crawling needed!\n",
        "\n",
        "**With Metaphor, we have empowered our LLM application with the Internet.** The possibilities are endless."
      ],
      "metadata": {
        "id": "_VZZTHgX1TNS"
      }
    }
  ]
}